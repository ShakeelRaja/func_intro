{
 "cells": [
  {
   "cell_type": "markdown",
   "metadata": {},
   "source": [
    "# Functions in Python\n",
    "\n",
    "## Objectives\n",
    "\n",
    "* Define a function that takes parameters.\n",
    "* Return a value from a function.\n",
    "* Use functions from within other functions\n",
    "* Explain why we should divide programs into small, single-purpose functions.\n"
   ]
  },
  {
   "cell_type": "markdown",
   "metadata": {},
   "source": [
    "Defining a Function\n",
    "\n",
    "Let's start by making a simple function that converts temperature value from farenheit to kelvin \n",
    "The formula is : \n",
    "> **K = (F - 32)5/9 + 273.15**"
   ]
  },
  {
   "cell_type": "code",
   "execution_count": 19,
   "metadata": {},
   "outputs": [
    {
     "data": {
      "text/plain": [
       "373.15"
      ]
     },
     "execution_count": 19,
     "metadata": {},
     "output_type": "execute_result"
    }
   ],
   "source": [
    "# our approach so far \n",
    "\n",
    "f = 212\n",
    "k = (f - 32)*(5/9) + 273.15\n",
    "k"
   ]
  },
  {
   "cell_type": "code",
   "execution_count": 16,
   "metadata": {},
   "outputs": [],
   "source": [
    "# using a function with ((temp - 32) * (5/9)) + 273.15\n",
    "\n"
   ]
  },
  {
   "cell_type": "markdown",
   "metadata": {},
   "source": [
    "### Function Requirements \n",
    "* The definition opens with the word `def`, which is followed by the name of the function and a parenthesized list of parameter names. \n",
    "* The body of the function: the statements that are executed when it runs. It is indented below the definition line, typically by four spaces.\n",
    "* A `return` statement to send a result back to whoever asked for it.\n",
    "\n",
    "Let's try to run the above function "
   ]
  },
  {
   "cell_type": "code",
   "execution_count": 20,
   "metadata": {},
   "outputs": [],
   "source": [
    "# Execute the function \n",
    "#  freezing point of water = 32\n",
    "\n",
    "#  boiling point of water = 212\n"
   ]
  },
  {
   "cell_type": "markdown",
   "metadata": {},
   "source": [
    "### Composing Functions \n",
    "**Task 1:**\n",
    "\n",
    "Now that we've seen how to turn Fahrenheit into Kelvin, Let's try to turn Kelvin into Celsius using formula:\n",
    "\n",
    ">**c = k - 273.15**\n",
    "\n",
    "**Task 2:**\n",
    "How about using our previous function `f2k()` with a new function `k2c()` to convert farenheit to centigrade!\n",
    "\n",
    "**Task 3:**\n",
    "\"Adding\" two strings produces their concatention: 'a' + 'b' is 'ab'. Write a function called fence that takes two parameters called original and wrapper and returns a new string that has the wrapper character at the beginning and end of the original:\n",
    "\n",
    "    print fence('joe', '*')\n",
    "    *joe*\n",
    "    \n",
    "**Task 4:**\n",
    "If the variable s refers to a string, then s[0] is the string's first character and s[-1] is its last. Write a function called outer that returns a string made up of just the first and last characters of its input:\n",
    "\n",
    "    print outer('helium')\n",
    "    hm\n"
   ]
  }
 ],
 "metadata": {
  "kernelspec": {
   "display_name": "Python 3",
   "language": "python",
   "name": "python3"
  },
  "language_info": {
   "codemirror_mode": {
    "name": "ipython",
    "version": 3
   },
   "file_extension": ".py",
   "mimetype": "text/x-python",
   "name": "python",
   "nbconvert_exporter": "python",
   "pygments_lexer": "ipython3",
   "version": "3.6.4"
  }
 },
 "nbformat": 4,
 "nbformat_minor": 2
}
